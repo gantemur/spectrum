{
 "cells": [
  {
   "cell_type": "markdown",
   "metadata": {},
   "source": [
    "Approximate angle for the $k$-th order rainbow is\n",
    "\n",
    "$\\delta_k = (k+1)\\pi+2\\alpha_k-2(k+1)\\beta_k$\n",
    "\n",
    "where \n",
    "\n",
    "$\\alpha_k=\\arcsin\\sqrt{\\frac{(k+1)^2-n^2}{k(k+2)}}$\n",
    "\n",
    "is the corresponding incident angle and\n",
    "\n",
    "$\\beta_k=\\arcsin\\sqrt{\\frac{(k+1)^2-n^2}{n^2k(k+2)}}$\n",
    "\n",
    "is the refracted angle inside the droplet. Here $n\\approx1.33$ is of course the relative refractive index."
   ]
  },
  {
   "cell_type": "code",
   "execution_count": 1,
   "metadata": {},
   "outputs": [],
   "source": [
    "import math\n",
    "\n",
    "def rbk(n,k):\n",
    "    b = math.sqrt(((k+1)*(k+1) - n*n)/(k*(k+2)))\n",
    "    alpha = math.asin(b)\n",
    "    beta = math.asin(b/n)\n",
    "    delta = (k+1)*math.pi +2*alpha - 2*(k+1)*beta\n",
    "    delta = delta%(2*math.pi)\n",
    "    if delta > math.pi : delta = 2*math.pi-delta\n",
    "    if delta > math.pi/2 : delta = delta - math.pi\n",
    "    return [alpha,beta,delta]\n",
    "    \n",
    "def rbkdeg(n,k):\n",
    "    a = rbk(n,k)\n",
    "    return [a[0]*180/math.pi,a[1]*180/math.pi,a[2]*180/math.pi]"
   ]
  },
  {
   "cell_type": "code",
   "execution_count": 33,
   "metadata": {},
   "outputs": [
    {
     "name": "stdout",
     "output_type": "stream",
     "text": [
      "Minus sign signifies counting from the Sun.\n",
      "Otherwise, the angle is measured from the point opposite of the Sun.\n",
      "#   Red   Violet\n",
      "1  42.57  41.12\n",
      "2  50.00  52.61\n",
      "3 -42.98 -39.32\n",
      "4 -42.11 -46.79\n",
      "5  53.70  48.02\n",
      "6  29.98  36.65\n",
      "7 -66.65 -58.99\n",
      "8 -16.51 -25.15\n",
      "9  80.47  70.84\n"
     ]
    }
   ],
   "source": [
    "nAir = 1.00027717\n",
    "nWaterRed = 1.33\n",
    "nWaterViolet = 1.34\n",
    "n1 = nWaterRed/nAir\n",
    "n2 = nWaterViolet/nAir\n",
    "\n",
    "print('Minus sign signifies counting from the Sun.')\n",
    "print('Otherwise, the angle is measured from the point opposite of the Sun.')\n",
    "print('#   Red   Violet')\n",
    "for k in range(1,10):\n",
    "    a1 = rbkdeg(n1,k)\n",
    "    a2 = rbkdeg(n2,k)\n",
    "    print('%d %6.2f %6.2f' % (k,a1[2],a2[2]))"
   ]
  },
  {
   "cell_type": "code",
   "execution_count": null,
   "metadata": {},
   "outputs": [],
   "source": []
  }
 ],
 "metadata": {
  "kernelspec": {
   "display_name": "Python 3",
   "language": "python",
   "name": "python3"
  },
  "language_info": {
   "codemirror_mode": {
    "name": "ipython",
    "version": 3
   },
   "file_extension": ".py",
   "mimetype": "text/x-python",
   "name": "python",
   "nbconvert_exporter": "python",
   "pygments_lexer": "ipython3",
   "version": "3.7.3"
  }
 },
 "nbformat": 4,
 "nbformat_minor": 2
}
