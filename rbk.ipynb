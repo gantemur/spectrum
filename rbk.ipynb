{
 "cells": [
  {
   "cell_type": "markdown",
   "metadata": {},
   "source": [
    "Approximate angle for the $k$-th order rainbow\n",
    "\n",
    "$\\delta_k = (k+1)\\pi+2\\alpha_k-2(k+1)\\beta_k$\n",
    "\n",
    "where \n",
    "\n",
    "$\\alpha_k=\\arcsin\\sqrt{\\frac{(k+1)^2-n^2}{k(k+2)}}$\n",
    "\n",
    "is the corresponding incident angle and\n",
    "\n",
    "$\\beta_k=\\arcsin\\sqrt{\\frac{(k+1)^2-n^2}{n^2k(k+2)}}$\n",
    "\n",
    "is the refracted angle inside the droplet. Here $n\\approx1.33$ is of course the relative refractive index."
   ]
  },
  {
   "cell_type": "code",
   "execution_count": 1,
   "metadata": {},
   "outputs": [],
   "source": [
    "import math\n",
    "\n",
    "def rbk(n,k):\n",
    "    b = math.sqrt(((k+1)*(k+1) - n*n)/(k*(k+2)))\n",
    "    alpha = math.asin(b)\n",
    "    beta = math.asin(b/n)\n",
    "    delta = (k+1)*math.pi +2*alpha - 2*(k+1)*beta\n",
    "    delta = delta%(2*math.pi)\n",
    "    if delta > math.pi : delta = 2*math.pi-delta\n",
    "    if delta > math.pi/2 : delta = delta - math.pi\n",
    "    return [alpha,beta,delta]\n",
    "    \n",
    "def rbkdeg(n,k):\n",
    "    a = rbk(n,k)\n",
    "    return [a[0]*180/math.pi,a[1]*180/math.pi,a[2]*180/math.pi]"
   ]
  },
  {
   "cell_type": "code",
   "execution_count": 2,
   "metadata": {},
   "outputs": [
    {
     "name": "stdout",
     "output_type": "stream",
     "text": [
      "1 59.39 40.20 42.03\n",
      "2 71.83 45.45 50.98\n",
      "3 76.84 46.91 -41.61\n",
      "4 79.63 47.54 -43.86\n",
      "5 81.43 47.87 51.58\n"
     ]
    }
   ],
   "source": [
    "n1 = 1\n",
    "n2 = 1.333333\n",
    "n = n2/n1\n",
    "\n",
    "for k in range(1,6):\n",
    "    a = rbkdeg(n,k)\n",
    "    print(k,'%0.2f'%a[0],'%0.2f'%a[1],'%0.2f'%a[2])"
   ]
  },
  {
   "cell_type": "code",
   "execution_count": null,
   "metadata": {},
   "outputs": [],
   "source": []
  }
 ],
 "metadata": {
  "kernelspec": {
   "display_name": "Python 3",
   "language": "python",
   "name": "python3"
  },
  "language_info": {
   "codemirror_mode": {
    "name": "ipython",
    "version": 3
   },
   "file_extension": ".py",
   "mimetype": "text/x-python",
   "name": "python",
   "nbconvert_exporter": "python",
   "pygments_lexer": "ipython3",
   "version": "3.7.3"
  }
 },
 "nbformat": 4,
 "nbformat_minor": 2
}
