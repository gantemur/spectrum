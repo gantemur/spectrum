{
 "cells": [
  {
   "cell_type": "code",
   "execution_count": 37,
   "metadata": {
    "collapsed": false
   },
   "outputs": [
    {
     "data": {
      "image/png": "[encoded data removed]",
      "text/plain": [
       "<matplotlib.figure.Figure at 0x115359e50>"
      ]
     },
     "metadata": {},
     "output_type": "display_data"
    }
   ],
   "source": [
    "import numpy as np\n",
    "import matplotlib as mpl\n",
    "import matplotlib.pyplot as plt\n",
    "import matplotlib.colors as mcolors\n",
    "\n",
    "def make_colormap(seq):\n",
    "    \"\"\"Return a LinearSegmentedColormap\n",
    "    seq: a sequence of floats and RGB-tuples. The floats should be increasing\n",
    "    and in the interval (0,1).\n",
    "    \"\"\"\n",
    "    seq = [(None,) * 3, 0.0] + list(seq) + [1.0, (None,) * 3]\n",
    "    cdict = {'red': [], 'green': [], 'blue': []}\n",
    "    for i, item in enumerate(seq):\n",
    "        if isinstance(item, float):\n",
    "            r1, g1, b1 = seq[i - 1]\n",
    "            r2, g2, b2 = seq[i + 1]\n",
    "            cdict['red'].append([item, r1, r2])\n",
    "            cdict['green'].append([item, g1, g2])\n",
    "            cdict['blue'].append([item, b1, b2])\n",
    "    return mcolors.LinearSegmentedColormap('CustomMap', cdict)\n",
    "\n",
    "c = mcolors.ColorConverter().to_rgb\n",
    "myrainbow = make_colormap(\n",
    "    [(1,0,1), (0,0,1), (440.0-380)/400, (0,0,1), (0,1,1), (490.0-380)/400, (0,1,1),\n",
    "     (0,1,0),(510.0-380)/400,(0,1,0),(1,1,0),(580.0-380)/400,(1,1,0),(1,0,0),(645.0-380)/400,(1,0,0)])\n",
    "\n",
    "fig = plt.figure(figsize=(9, 5))\n",
    "ax1 = fig.add_axes([0.05, 0.80, 0.9, 0.15])\n",
    "ax2 = fig.add_axes([0.05, 0.475, 0.9, 0.15])\n",
    "\n",
    "cmap = mpl.cm.rainbow\n",
    "norm = mpl.colors.Normalize(vmin=380, vmax=780)\n",
    "\n",
    "cb1 = mpl.colorbar.ColorbarBase(ax1, cmap=cmap,\n",
    "                                norm=norm,\n",
    "                                orientation='horizontal')\n",
    "cb1.set_label('\"Rainbow\" colormap')\n",
    "\n",
    "cb2 = mpl.colorbar.ColorbarBase(ax2, cmap=myrainbow,\n",
    "                                norm=norm,\n",
    "                                orientation='horizontal')\n",
    "cb2.set_label('Wavelength, nm (in reality)')\n",
    "\n",
    "\n",
    "plt.show()"
   ]
  },
  {
   "cell_type": "code",
   "execution_count": null,
   "metadata": {
    "collapsed": true
   },
   "outputs": [],
   "source": []
  }
 ],
 "metadata": {
  "kernelspec": {
   "display_name": "Python 2",
   "language": "python",
   "name": "python2"
  },
  "language_info": {
   "codemirror_mode": {
    "name": "ipython",
    "version": 2
   },
   "file_extension": ".py",
   "mimetype": "text/x-python",
   "name": "python",
   "nbconvert_exporter": "python",
   "pygments_lexer": "ipython2",
   "version": "2.7.13"
  }
 },
 "nbformat": 4,
 "nbformat_minor": 2
}
